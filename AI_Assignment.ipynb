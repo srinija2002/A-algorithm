{
  "nbformat": 4,
  "nbformat_minor": 0,
  "metadata": {
    "colab": {
      "name": "AI Assignment.ipynb",
      "provenance": [],
      "collapsed_sections": []
    },
    "kernelspec": {
      "name": "python3",
      "display_name": "Python 3"
    },
    "language_info": {
      "name": "python"
    }
  },
  "cells": [
    {
      "cell_type": "markdown",
      "source": [
        "#Implementation of A* algorithm on a maze\n"
      ],
      "metadata": {
        "id": "Sb8u1Yc_Xf54"
      }
    },
    {
      "cell_type": "markdown",
      "source": [
        "#### Name: Saladi Naga Sai Srinija\n",
        "#### Roll no.: 411974"
      ],
      "metadata": {
        "id": "B3H0oiC5Ok61"
      }
    },
    {
      "cell_type": "markdown",
      "source": [
        "### Create a priority queue for maintaining the frontier required to implement A* on the graph"
      ],
      "metadata": {
        "id": "eWEy1BIrYUqG"
      }
    },
    {
      "cell_type": "code",
      "source": [
        "#Create a class to implement priority queue methods\n",
        "import heapq\n",
        "\n",
        "class PriorityQueue:\n",
        "    def __init__(self):\n",
        "        self.elements = []\n",
        "    \n",
        "    def empty(self):\n",
        "        return len(self.elements) == 0\n",
        "    \n",
        "    def put(self, item, priority):\n",
        "        heapq.heappush(self.elements, (priority, item))\n",
        "    \n",
        "    def get(self):\n",
        "        return heapq.heappop(self.elements)[1]\n"
      ],
      "metadata": {
        "id": "SvzqL7vWkMeb"
      },
      "execution_count": 1,
      "outputs": []
    },
    {
      "cell_type": "markdown",
      "source": [
        "### Define functions to draw a maze to represent nodes and paths "
      ],
      "metadata": {
        "id": "EPdLrqOqtIM_"
      }
    },
    {
      "cell_type": "code",
      "source": [
        "# Representation of symbols in each tile of the grid representing the maze\n",
        "def draw_tile(graph, id, style, width):\n",
        "    r = \".\"\n",
        "    if 'number' in style and id in style['number']: r = \"%d\" % style['number'][id]\n",
        "    if 'point_to' in style and style['point_to'].get(id, None) is not None:\n",
        "        (x1, y1) = id\n",
        "        (x2, y2) = style['point_to'][id]\n",
        "        if x2 == x1 + 1: r = \"<\"\n",
        "        if x2 == x1 - 1: r = \">\"\n",
        "        if y2 == y1 + 1: r = \"^\"\n",
        "        if y2 == y1 - 1: r = \"v\"\n",
        "      #\\033[1m and \\033[0m are added to make the letters bold\n",
        "    if 'start' in style and id == style['start']: r = \"\\033[1mS  \\033[0m\"\n",
        "    if 'goal' in style and id == style['goal']: r = \"\\033[1mG  \\033[0m\"\n",
        "    if 'path' in style and id in style['path']: r = \"$\"\n",
        "    if id in graph.walls: r = \"w\" * width\n",
        "    return r\n",
        "\n"
      ],
      "metadata": {
        "id": "39-q6hScvAsT"
      },
      "execution_count": 2,
      "outputs": []
    },
    {
      "cell_type": "code",
      "source": [
        "# Draw a maze with the given parameters\n",
        "def draw_maze(graph, width=3, **style):\n",
        "    for y in range(graph.height):\n",
        "        for x in range(graph.width):\n",
        "            print(\"%%-%ds\" % width % draw_tile(graph, (x, y), style, width), end=\"\")\n",
        "        print()"
      ],
      "metadata": {
        "id": "kDRJuD2_u9rl"
      },
      "execution_count": 3,
      "outputs": []
    },
    {
      "cell_type": "code",
      "source": [
        "# Create a square grid to represent maze\n",
        "\n",
        "class SquareGrid:\n",
        "    def __init__(self, width, height):\n",
        "        self.width = width\n",
        "        self.height = height\n",
        "        self.walls = []\n",
        "    \n",
        "    def in_bounds(self, id):\n",
        "        (x, y) = id\n",
        "        return 0 <= x < self.width and 0 <= y < self.height\n",
        "    \n",
        "    def passable(self, id):\n",
        "        return id not in self.walls\n",
        "    \n",
        "    def neighbours(self, id):\n",
        "        (x, y) = id\n",
        "        results = [(x+1, y), (x, y-1), (x-1, y), (x, y+1)]\n",
        "        if (x + y) % 2 == 0: results.reverse()\n",
        "        results = filter(self.in_bounds, results)\n",
        "        results = filter(self.passable, results)\n",
        "        return results\n",
        "\n"
      ],
      "metadata": {
        "id": "MvGY5an9nHA2"
      },
      "execution_count": 4,
      "outputs": []
    },
    {
      "cell_type": "code",
      "source": [
        "# define the weight of each tile in the grid\n",
        "\n",
        "class GridWithWeights(SquareGrid):\n",
        "    def __init__(self, width, height):\n",
        "        super().__init__(width, height)\n",
        "        self.weights = {}\n",
        "    \n",
        "    def cost(self, from_node, to_node):\n",
        "        return self.weights.get(to_node, 1)\n",
        "\n",
        "maze = GridWithWeights(12, 12)\n",
        "maze.walls = [(1, 7), (1, 8), (2, 7), (2, 8), (3, 7), (3, 8),(4,2),(4,3),(4,4),(5,3),(5,4),(6,3),(6,4),(8,6),(8,7),(8,8),(8,9)]\n",
        "maze.weights = {loc: 3 for loc in [(3, 4), (4, 2),(4, 3), (4, 4), (4, 5), (4, 6),(5, 2),(6, 7),(7, 3), (7, 4), (7, 5),(8,5),(8,9),(9,10),(9,11),(10,8)]}\n",
        "\n"
      ],
      "metadata": {
        "id": "wnY6lRvt16If"
      },
      "execution_count": 5,
      "outputs": []
    },
    {
      "cell_type": "markdown",
      "source": [
        "### Heuristic function to implement A* algorithm using f(n) = g(n) + h(n)"
      ],
      "metadata": {
        "id": "EmQ-P7dovRb4"
      }
    },
    {
      "cell_type": "code",
      "source": [
        "# Heuristic function for the A* search algorithm\n",
        "# This function gives the manhattan distance between two points\n",
        "def heuristic(a, b):\n",
        "    (x1, y1) = a\n",
        "    (x2, y2) = b\n",
        "    return abs(x1 - x2) + abs(y1 - y2)"
      ],
      "metadata": {
        "id": "EmAfB-RRnfTk"
      },
      "execution_count": 6,
      "outputs": []
    },
    {
      "cell_type": "markdown",
      "source": [
        "### Implementation code for A* algorithm"
      ],
      "metadata": {
        "id": "EoQ1_vYKveCz"
      }
    },
    {
      "cell_type": "code",
      "source": [
        "# Implementation of A* algorithm for a graph\n",
        "# Heuristic function taken is the manhattan distance between a given point to the goal\n",
        "def a_star(graph, start, goal):\n",
        "    frontier = PriorityQueue()\n",
        "    frontier.put(start, 0)\n",
        "    nodes = {}\n",
        "    costs = {}\n",
        "    nodes[start] = None\n",
        "    costs[start] = 0\n",
        "    \n",
        "    while not frontier.empty():\n",
        "        current = frontier.get()\n",
        "        \n",
        "        if current == goal:\n",
        "            break\n",
        "        \n",
        "        for next in graph.neighbours(current):\n",
        "            new_cost = costs[current] + graph.cost(current, next)\n",
        "            if next not in costs or new_cost < costs[next]:\n",
        "                costs[next] = new_cost\n",
        "                priority = new_cost + heuristic(goal, next)\n",
        "                frontier.put(next, priority)\n",
        "                nodes[next] = current\n",
        "    \n",
        "    return nodes, costs"
      ],
      "metadata": {
        "id": "ITpEy3crnpDE"
      },
      "execution_count": 7,
      "outputs": []
    },
    {
      "cell_type": "markdown",
      "source": [
        "### Construct Shortest path from Start node to Goal node\n",
        "\n",
        "\n"
      ],
      "metadata": {
        "id": "hFKHp225vqUW"
      }
    },
    {
      "cell_type": "code",
      "source": [
        "# Reconstruction of path to represent the shortest path in the graph\n",
        "def reconstruct_path(nodes, start, goal):\n",
        "    current = goal\n",
        "    path = []\n",
        "    while current != start:\n",
        "        path.append(current)\n",
        "        current = nodes[current]\n",
        "    path.append(start)\n",
        "    path.reverse()\n",
        "    return path\n"
      ],
      "metadata": {
        "id": "NmImxOmroDB6"
      },
      "execution_count": 8,
      "outputs": []
    },
    {
      "cell_type": "markdown",
      "source": [
        "### Diagramatic representation of A* implementation on a maze"
      ],
      "metadata": {
        "id": "QWWvKDyrv79H"
      }
    },
    {
      "cell_type": "code",
      "source": [
        "# Defining start and goal points in the maze\n",
        "start, goal = (1, 1), (10,8)\n",
        "nodes, costs = a_star(maze, start, goal)\n"
      ],
      "metadata": {
        "id": "UYSREcAMnx9u"
      },
      "execution_count": 9,
      "outputs": []
    },
    {
      "cell_type": "code",
      "source": [
        "# Representation of paths in the maze\n",
        "# Walls are represented by w\n",
        "# path directions are represented by >, <, ^, v towards pointed side of the arrows\n",
        "draw_maze(maze, width=3, point_to=nodes, start=start, goal=goal)\n",
        "print()"
      ],
      "metadata": {
        "colab": {
          "base_uri": "https://localhost:8080/"
        },
        "id": "JqMKtkh22nSu",
        "outputId": "984063d9-aa86-40f2-a542-b05d83e9f425"
      },
      "execution_count": 10,
      "outputs": [
        {
          "output_type": "stream",
          "name": "stdout",
          "text": [
            "^  ^  ^  ^  ^  ^  ^  ^  ^  ^  ^  >  \n",
            "<  \u001b[1mS  \u001b[0m>  >  >  >  >  >  >  >  >  >  \n",
            "<  v  >  >  wwwv  v  >  >  >  >  >  \n",
            "<  v  >  >  wwwwwwwwwv  v  >  >  >  \n",
            "<  v  >  >  wwwwwwwww<  v  >  >  >  \n",
            "<  v  >  >  >  >  >  >  v  v  >  >  \n",
            "<  v  >  >  >  >  >  >  wwwv  >  >  \n",
            "v  wwwwwwwwwv  >  >  v  wwwv  >  >  \n",
            "v  wwwwwwwwwv  >  >  >  wwwv  \u001b[1mG  \u001b[0m.  \n",
            "v  .  .  .  v  v  v  v  wwwv  >  .  \n",
            ".  .  .  .  .  .  .  .  .  v  .  .  \n",
            ".  .  .  .  .  .  .  .  .  .  .  .  \n",
            "\n"
          ]
        }
      ]
    },
    {
      "cell_type": "code",
      "source": [
        "\n",
        "# Representing the costs to each point in the maze\n",
        "draw_maze(maze, width=3, number=costs, start=start, goal=goal)\n",
        "print()\n"
      ],
      "metadata": {
        "colab": {
          "base_uri": "https://localhost:8080/"
        },
        "id": "H9Wybh527cNf",
        "outputId": "4157a312-8b17-46ec-de33-03744425e298"
      },
      "execution_count": 11,
      "outputs": [
        {
          "output_type": "stream",
          "name": "stdout",
          "text": [
            "2  1  2  3  4  5  6  7  8  9  10 11 \n",
            "1  \u001b[1mS  \u001b[0m1  2  3  4  5  6  7  8  9  10 \n",
            "2  1  2  3  www7  6  7  8  9  10 11 \n",
            "3  2  3  4  wwwwwwwww10 9  10 11 12 \n",
            "4  3  4  7  wwwwwwwww13 10 11 12 13 \n",
            "5  4  5  6  9  10 11 14 13 12 13 14 \n",
            "6  5  6  7  10 11 12 13 www13 14 15 \n",
            "7  wwwwwwwww11 12 15 14 www14 15 16 \n",
            "8  wwwwwwwww12 13 14 15 www15 \u001b[1mG  \u001b[0m.  \n",
            "9  .  .  .  13 14 15 16 www16 17 .  \n",
            ".  .  .  .  .  .  .  .  .  19 .  .  \n",
            ".  .  .  .  .  .  .  .  .  .  .  .  \n",
            "\n"
          ]
        }
      ]
    },
    {
      "cell_type": "code",
      "source": [
        "# The shortest path found from S to G through A* algorithm\n",
        "# Path represented by $\n",
        "draw_maze(maze, width=3, path=reconstruct_path(nodes, start=start, goal=goal))\n",
        "print()"
      ],
      "metadata": {
        "colab": {
          "base_uri": "https://localhost:8080/"
        },
        "id": "0QLaPxsM7ffU",
        "outputId": "ac230f5f-fe67-4bfb-ddf8-3e450b47d938"
      },
      "execution_count": 12,
      "outputs": [
        {
          "output_type": "stream",
          "name": "stdout",
          "text": [
            ".  .  .  .  .  .  .  .  .  .  .  .  \n",
            ".  $  $  $  $  $  $  .  .  .  .  .  \n",
            ".  .  .  .  www.  $  $  $  .  .  .  \n",
            ".  .  .  .  wwwwwwwww.  $  .  .  .  \n",
            ".  .  .  .  wwwwwwwww.  $  $  .  .  \n",
            ".  .  .  .  .  .  .  .  .  $  .  .  \n",
            ".  .  .  .  .  .  .  .  www$  .  .  \n",
            ".  wwwwwwwww.  .  .  .  www$  .  .  \n",
            ".  wwwwwwwww.  .  .  .  www$  $  .  \n",
            ".  .  .  .  .  .  .  .  www.  .  .  \n",
            ".  .  .  .  .  .  .  .  .  .  .  .  \n",
            ".  .  .  .  .  .  .  .  .  .  .  .  \n",
            "\n"
          ]
        }
      ]
    },
    {
      "cell_type": "code",
      "source": [
        ""
      ],
      "metadata": {
        "id": "D0OPt-0hAKey"
      },
      "execution_count": null,
      "outputs": []
    }
  ]
}